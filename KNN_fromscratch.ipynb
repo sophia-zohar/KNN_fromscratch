{
 "cells": [
  {
   "cell_type": "markdown",
   "metadata": {},
   "source": [
    "## Implementing K Nearest Neighbors from Scratch"
   ]
  },
  {
   "cell_type": "code",
   "execution_count": 189,
   "metadata": {
    "collapsed": true
   },
   "outputs": [],
   "source": [
    "import numpy as np\n",
    "from collections import defaultdict, Counter"
   ]
  },
  {
   "cell_type": "code",
   "execution_count": 197,
   "metadata": {},
   "outputs": [],
   "source": [
    "class KNN():\n",
    "    \n",
    "    def Euclidean(self, pt1, pt2):\n",
    "        pt1 = np.array(pt1)\n",
    "        pt2 = np.array(pt2)\n",
    "        return np.sqrt(np.sum((pt1-pt2)**2))\n",
    "    \n",
    "    def Manhattan(self, pt1, pt2):\n",
    "        pt1 = np.array(pt1)\n",
    "        pt2 = np.array(pt2)\n",
    "        return np.sum(np.abs(pt1-pt2))\n",
    "        \n",
    "    def __init__(self, k=5, dist='euclidean'):\n",
    "        self.k = k\n",
    "        \n",
    "        self.distFunctions = {'euclidean': self.Euclidean, \n",
    "                              \n",
    "                              'manhattan': self.Manhattan}\n",
    "        \n",
    "        if dist in self.distFunctions.keys():\n",
    "            self.dist = self.distFunctions[dist]\n",
    "        else:\n",
    "            raise ValueError\n",
    "    \n",
    "    def fit(self, labeledPoints, labels):\n",
    "        if len(labeledPoints) == len(labels):\n",
    "            self.labeledPoints = labeledPoints\n",
    "            self.labels = labels\n",
    "            print('Successful Fit')\n",
    "    \n",
    "    def classifyPoint(self, point):\n",
    "        full = [(loc, lab, self.dist(loc, point)) for loc, lab in zip(self.labeledPoints, self.labels)]\n",
    "        self.TestDistance = sorted(full, key=lambda point_distance: point_distance[2])\n",
    "        kth_point_distance = self.TestDistance[self.k - 1][2]\n",
    "        self.electorates = self.TestDistance[:self.k]\n",
    "        \n",
    "        self.add_k = 0\n",
    "        while kth_point_distance == self.TestDistance[self.k + self.add_k][2]:\n",
    "            \n",
    "            self.electorates.append(self.TestDistance[self.k + self.add_k])\n",
    "            self.add_k += 1\n",
    "            if self.k + self.add_k == len(self.TestDistance):\n",
    "                \n",
    "                break\n",
    "            \n",
    "        electorate_labels = [label for pt, label, dist in self.electorates]\n",
    "        self.votes = Counter(electorate_labels)\n",
    "        self.most_common = self.votes.most_common()\n",
    "        if len(self.most_common) == 1:\n",
    "            return self.most_common[0][0]\n",
    "        elif self.most_common[0][1] > self.most_common[1][1]:\n",
    "            return self.most_common[0][0]\n",
    "        else:\n",
    "            commLabelDistAvgs = []\n",
    "            i = 0\n",
    "            while self.most_common[i][1] == most_common[0][1]:\n",
    "                CommTuple = self.most_common[i]\n",
    "                sumDist = np.sum([dist for pt, label, dist in self.electorates if label == commTuple[0]])\n",
    "                avgDist = sumDist/self.most_common[0][1]\n",
    "                commLabelDistAvgs.append((commTuple[0], avgDist))\n",
    "                i += 1\n",
    "                if i+1 == len(self.most_common):\n",
    "                    \n",
    "                    break\n",
    "            sortedAvgs = sorted(commLabelDistAvgs, key = lambda average: average[1])\n",
    "            \n",
    "            \n",
    "            return sortedAvgs\n",
    "    \n",
    "    def predict(self, unlabeledPoints):\n",
    "        return np.array([self.classifyPoint(point) for point in unlabeledPoints])"
   ]
  },
  {
   "cell_type": "code",
   "execution_count": 198,
   "metadata": {
    "collapsed": true
   },
   "outputs": [],
   "source": [
    "knn = KNN(k = 3)"
   ]
  },
  {
   "cell_type": "code",
   "execution_count": 205,
   "metadata": {
    "collapsed": true
   },
   "outputs": [],
   "source": [
    "testpoints = [1, 1, 1, 2, 2, 2]\n",
    "testlabels = [0, 0, 0, 1, 1, 0]\n"
   ]
  },
  {
   "cell_type": "code",
   "execution_count": 206,
   "metadata": {},
   "outputs": [
    {
     "name": "stdout",
     "output_type": "stream",
     "text": [
      "Successful Fit\n"
     ]
    }
   ],
   "source": [
    "knn.fit(testpoints, testlabels)"
   ]
  },
  {
   "cell_type": "code",
   "execution_count": 214,
   "metadata": {},
   "outputs": [],
   "source": [
    "from sklearn.datasets import load_iris\n",
    "from sklearn.cross_validation import train_test_split\n",
    "from sklearn.metrics import classification_report"
   ]
  },
  {
   "cell_type": "code",
   "execution_count": 221,
   "metadata": {},
   "outputs": [],
   "source": [
    "iris = load_iris()\n",
    "features = iris.data\n",
    "target = iris.target"
   ]
  },
  {
   "cell_type": "code",
   "execution_count": 223,
   "metadata": {},
   "outputs": [],
   "source": [
    "X_train, X_test, y_train, y_test = train_test_split(features, target)"
   ]
  },
  {
   "cell_type": "code",
   "execution_count": 225,
   "metadata": {},
   "outputs": [
    {
     "name": "stdout",
     "output_type": "stream",
     "text": [
      "Successful Fit\n"
     ]
    }
   ],
   "source": [
    "knn = KNN(k = 5)\n",
    "knn.fit(X_train, y_train)"
   ]
  },
  {
   "cell_type": "code",
   "execution_count": 227,
   "metadata": {},
   "outputs": [
    {
     "name": "stdout",
     "output_type": "stream",
     "text": [
      "0.346410161514\n",
      "0.387298334621\n",
      "0.921954445729\n"
     ]
    }
   ],
   "source": [
    "predictions = knn.predict(X_test)"
   ]
  },
  {
   "cell_type": "code",
   "execution_count": 229,
   "metadata": {},
   "outputs": [
    {
     "name": "stdout",
     "output_type": "stream",
     "text": [
      "             precision    recall  f1-score   support\n",
      "\n",
      "          0       1.00      1.00      1.00        13\n",
      "          1       0.94      0.88      0.91        17\n",
      "          2       0.78      0.88      0.82         8\n",
      "\n",
      "avg / total       0.93      0.92      0.92        38\n",
      "\n"
     ]
    }
   ],
   "source": [
    "print(classification_report(y_test, predictions))"
   ]
  },
  {
   "cell_type": "code",
   "execution_count": 230,
   "metadata": {},
   "outputs": [
    {
     "data": {
      "text/plain": [
       "array([[13,  0,  0],\n",
       "       [ 0, 15,  2],\n",
       "       [ 0,  1,  7]])"
      ]
     },
     "execution_count": 230,
     "metadata": {},
     "output_type": "execute_result"
    }
   ],
   "source": [
    "from sklearn.metrics import confusion_matrix\n",
    "confusion_matrix(y_test, predictions)"
   ]
  },
  {
   "cell_type": "code",
   "execution_count": 231,
   "metadata": {
    "collapsed": true
   },
   "outputs": [],
   "source": [
    "from sklearn.datasets import make_classification"
   ]
  },
  {
   "cell_type": "code",
   "execution_count": 234,
   "metadata": {},
   "outputs": [
    {
     "name": "stdout",
     "output_type": "stream",
     "text": [
      "Successful Fit\n",
      "             precision    recall  f1-score   support\n",
      "\n",
      "          0       1.00      0.92      0.96        12\n",
      "          1       0.93      1.00      0.96        13\n",
      "\n",
      "avg / total       0.96      0.96      0.96        25\n",
      "\n"
     ]
    }
   ],
   "source": [
    "X, y = make_classification(random_state = 37)\n",
    "X_train, X_test, y_train, y_test = train_test_split(X, y, random_state=37)\n",
    "knn = KNN(k = 5)\n",
    "knn.fit(X_train, y_train)\n",
    "predictions = knn.predict(X_test)\n",
    "print(classification_report(y_test, predictions))"
   ]
  },
  {
   "cell_type": "code",
   "execution_count": null,
   "metadata": {
    "collapsed": true
   },
   "outputs": [],
   "source": []
  }
 ],
 "metadata": {
  "kernelspec": {
   "display_name": "Python 3",
   "language": "python",
   "name": "python3"
  },
  "language_info": {
   "codemirror_mode": {
    "name": "ipython",
    "version": 3
   },
   "file_extension": ".py",
   "mimetype": "text/x-python",
   "name": "python",
   "nbconvert_exporter": "python",
   "pygments_lexer": "ipython3",
   "version": "3.5.2"
  }
 },
 "nbformat": 4,
 "nbformat_minor": 2
}
